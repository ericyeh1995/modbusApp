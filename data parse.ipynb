{
 "cells": [
  {
   "cell_type": "markdown",
   "metadata": {},
   "source": [
    "modbus parse to json"
   ]
  },
  {
   "cell_type": "markdown",
   "metadata": {},
   "source": [
    "# data"
   ]
  },
  {
   "cell_type": "code",
   "execution_count": 191,
   "metadata": {},
   "outputs": [
    {
     "data": {
      "text/plain": [
       "104"
      ]
     },
     "execution_count": 191,
     "metadata": {},
     "output_type": "execute_result"
    }
   ],
   "source": [
    "data_1 = [0, 3, 0, 0, 0, 0, 0, 0, 32768, 0, 0, 0, 0, 1, 34, 16, 41, 0, 5, 24, 0, 0, 0, 0, 0, 0, 0, 0, 0, 0, 0, 147, 161, 165, 176, 175, 174, 175, 31, 34, 36, 43, 43, 34, 0, 0, 16880, 0, 16231, 7282, 17008, 0, 15921, 50973, 17946, 3174, 17933, 59833, 0, 0, 0, 0, 0, 0, 0, 0, 0, 0, 0, 0, 0, 0, 0, 0, 0, 0, 16601, 39322, 16512, 0, 32704, 0, 32704, 0, 0, 0, 0, 0, 0, 0, 16055, 21846, 17740, 52019, 0, 0, 17065, 0, 15860, 29127, 17209, 32768, 17191, 41444]\n",
    "data_2 = [0, 3, 0, 0, 0, 0, 0, 0, 32768, 0, 0, 0, 0, 1, 34, 16, 41, 0, 30, 24, 0, 0, 0, 0, 0, 0, 0, 0, 0, 0, 0, 81, 80, 81, 82, 112, 152, 149, 31, 34, 36, 43, 43, 34, 0, 0, 0, 0, 16231, 7282, 0, 0, 15921, 50973, 17946, 3174, 17933, 59833, 0, 0, 0, 0, 0, 0, 0, 0, 0, 0, 0, 0, 0, 0, 0, 0, 0, 0, 0, 0, 0, 0, 32704, 0, 32704, 0, 32704, 0, 32704, 0, 0, 0, 16057, 12136, 17740, 52019, 0, 0, 0, 0, 15853, 2426, 17133, 39322, 17170, 58766]\n",
    "data_3 = [0, 3, 0, 0, 0, 0, 0, 0, 32768, 0, 0, 0, 0, 1, 34, 16, 41, 0, 35, 24, 0, 0, 0, 0, 0, 0, 0, 0, 0, 0, 0, 80, 81, 80, 80, 107, 146, 142, 31, 34, 37, 43, 42, 34, 0, 0, 0, 0, 16226, 19418, 0, 0, 15918, 4855, 17946, 3174, 17933, 59833, 0, 0, 0, 0, 0, 0, 0, 0, 0, 0, 0, 0, 0, 0, 0, 0, 0, 0, 0, 0, 0, 0, 32704, 0, 32704, 0, 32704, 0, 32704, 0, 0, 0, 16038, 43690, 17740, 52019, 0, 0, 0, 0, 15860, 29127, 17120, 52429, 17169, 16450]\n",
    "len(data_1)"
   ]
  },
  {
   "cell_type": "markdown",
   "metadata": {},
   "source": [
    "# data extraction"
   ]
  },
  {
   "cell_type": "code",
   "execution_count": 196,
   "metadata": {},
   "outputs": [],
   "source": [
    "import csv\n",
    "import math\n",
    "import struct"
   ]
  },
  {
   "cell_type": "code",
   "execution_count": 223,
   "metadata": {},
   "outputs": [
    {
     "name": "stdout",
     "output_type": "stream",
     "text": [
      "0 0.0\n",
      "2 2.0\n",
      "4 4.0\n",
      "6 6.0\n",
      "under parent\n",
      "6.0 6.0\n",
      "under parent\n",
      "6.1 6.1\n",
      "under parent\n",
      "6.2 6.2\n",
      "under parent\n",
      "6.3 6.3\n",
      "under parent\n",
      "6.4 6.4\n",
      "under parent\n",
      "7.1 7.1\n",
      "8 8.0\n",
      "10 10.0\n",
      "under parent\n",
      "10 10.0\n",
      "under parent\n",
      "14 14.0\n",
      "under parent\n",
      "18 18.0\n",
      "22 12.0\n",
      "26 16.0\n"
     ]
    }
   ],
   "source": [
    "def adjust_offset():\n",
    "    \"\"\"\n",
    "    Read and adjust offset value\n",
    "    Known bug: children offset < parent offset will not work\n",
    "    \n",
    "    Send:\n",
    "        float: next offset\n",
    "    Yields:\n",
    "        float: absolute offset relative to position 0\n",
    "    \"\"\"\n",
    "    cur = parent = prev = offset = 0\n",
    "    while True:\n",
    "        inc = cur - prev\n",
    "        if inc < 0:\n",
    "            parent = prev\n",
    "        #print('g cur: {}, inc: {}, par: {}'.format(cur, inc, parent))\n",
    "        prev = cur\n",
    "        if cur < parent:\n",
    "            print('under parent')\n",
    "            cur = yield parent + cur\n",
    "        else:\n",
    "            cur = yield cur\n",
    "            parent = cur\n",
    "\n",
    "# adjust offset example:\n",
    "rel_offsets = [0, 2, 4, 6, 0.0, 0.1, 0.2, 0.3, 0.4, 1.1, 8, 10, 0,   4,  8]\n",
    "abs_offsets = [0, 2, 4, 6, 6.0, 6.1, 6.2, 6.3, 6.4, 7.1, 8, 10, 10, 14, 18]\n",
    "ao_test = adjust_offset()\n",
    "next(ao_test)\n",
    "for i in range(len(rel_offsets)):\n",
    "    adjusted = ao_test.send(float(rel_offsets[i]))\n",
    "    print(abs_offsets[i], adjusted)\n",
    "    #assert adjusted == abs_offsets[i], 'adjust offset'\n",
    "\n",
    "\n",
    "def unpack_bool(data):\n",
    "    \"\"\"Get the boolean data\n",
    "    \n",
    "    Args:\n",
    "        data: integer\n",
    "        position: location of bool to extract\n",
    "    Return:\n",
    "        list of bool\n",
    "    \"\"\"\n",
    "    return [bool(int(i)) for i in '{:016b}'.format(data)]\n",
    "\n",
    "def decimals_to_float32(int1, int2):\n",
    "    \"\"\"Convert to float\n",
    "    \n",
    "    Note:\n",
    "        Orders in big endian\n",
    "    Args:\n",
    "        int1, int2: two interger to combine\n",
    "    Return:\n",
    "        number in float\n",
    "    \"\"\"\n",
    "    f = int('{:016b}{:016b}'.format(int1, int2), 2)\n",
    "    return struct.unpack('f', struct.pack('I', f))[0]\n",
    "\n",
    "def unpack_real(data, offset):\n",
    "    \"\"\"Get data and convert to float\n",
    "    \n",
    "    Args:\n",
    "        data: List of data\n",
    "        offset: starting address\n",
    "    Return:\n",
    "        number in float\n",
    "    \"\"\"\n",
    "    return decimals_to_float32(data[offset//2], data[offset//2+1])\n",
    "\n",
    "def get_val(data, position, data_type):\n",
    "    \"\"\"\n",
    "    arg:\n",
    "        data, position, data type\n",
    "    return:\n",
    "        coorsponding value\n",
    "    \"\"\"\n",
    "    if data_type == 'Int':\n",
    "        return data[int(position)//2]\n",
    "    elif data_type == 'Bool':\n",
    "        bool_pos = round(10*(position-math.floor(position)))\n",
    "        if math.floor(position)%2 == 1: # add position for boolean at offset in odd positions\n",
    "            bool_pos += 8\n",
    "        return unpack_bool(data[math.floor(position//2)])[bool_pos]\n",
    "    elif data_type == 'Real':\n",
    "        return unpack_real(data, int(position))\n",
    "    else:\n",
    "        return '-other-'"
   ]
  },
  {
   "cell_type": "code",
   "execution_count": 198,
   "metadata": {},
   "outputs": [
    {
     "name": "stdout",
     "output_type": "stream",
     "text": [
      "Job_Num      (Int)    |abs_pos: 0   |Value:     0|ex Value: 0\n",
      "MC_st        (Int)    |abs_pos: 2   |Value:     3|ex Value: 3\n",
      "EX1_status   (Int)    |abs_pos: 4   |Value:     0|ex Value: 0\n",
      "EX2_status   (Int)    |abs_pos: 6   |Value:     0|ex Value: 0\n",
      "LSP_in_prese (Int)    |abs_pos: 8   |Value:     0|ex Value: 0\n",
      "Spark_H_Acc  (Int)    |abs_pos: 10  |Value:     0|ex Value: 0\n",
      "Spark_C_Acc  (Int)    |abs_pos: 12  |Value:     0|ex Value: 0\n",
      "pb           (Struct) |abs_pos: 14  |Value:     0|ex Value: -other-\n",
      "start        (Bool)   |abs_pos: 0   |Value:     0|ex Value: False\n",
      "stop         (Bool)   |abs_pos: 0.1 |Value: Error|ex Value: False\n",
      "inc_ex1      (Bool)   |abs_pos: 0.2 |Value: Error|ex Value: False\n",
      "dec_ex1      (Bool)   |abs_pos: 0.3 |Value: Error|ex Value: False\n",
      "inc_ex2      (Bool)   |abs_pos: 0.4 |Value: Error|ex Value: False\n",
      "dec_ex2      (Bool)   |abs_pos: 0.5 |Value: Error|ex Value: False\n",
      "inc_lsp      (Bool)   |abs_pos: 0.6 |Value: Error|ex Value: False\n",
      "dec_lsp      (Bool)   |abs_pos: 0.7 |Value: Error|ex Value: False\n",
      "st_ind       (Struct) |abs_pos: 16  |Value: 32768|ex Value: -other-\n",
      "EX1_ok       (Bool)   |abs_pos: 0   |Value:     0|ex Value: True\n",
      "EX1_war      (Bool)   |abs_pos: 0.1 |Value: Error|ex Value: False\n",
      "EX1_err      (Bool)   |abs_pos: 0.2 |Value: Error|ex Value: False\n",
      "EX2_ok       (Bool)   |abs_pos: 0.3 |Value: Error|ex Value: False\n",
      "EX2_war      (Bool)   |abs_pos: 0.4 |Value: Error|ex Value: False\n",
      "EX2_err      (Bool)   |abs_pos: 0.5 |Value: Error|ex Value: False\n",
      "MC_ok        (Bool)   |abs_pos: 0.6 |Value: Error|ex Value: False\n",
      "MC_war       (Bool)   |abs_pos: 0.7 |Value: Error|ex Value: False\n",
      "MC_err       (Bool)   |abs_pos: 1   |Value:     0|ex Value: False\n",
      "ex1_SPD_in_l (Struct) |abs_pos: 18  |Value:     0|ex Value: -other-\n",
      "10%          (Bool)   |abs_pos: 0   |Value:     0|ex Value: False\n",
      "20%          (Bool)   |abs_pos: 0.1 |Value: Error|ex Value: False\n",
      "30%          (Bool)   |abs_pos: 0.2 |Value: Error|ex Value: False\n",
      "40%          (Bool)   |abs_pos: 0.3 |Value: Error|ex Value: False\n",
      "50%          (Bool)   |abs_pos: 0.4 |Value: Error|ex Value: False\n",
      "60%          (Bool)   |abs_pos: 0.5 |Value: Error|ex Value: False\n",
      "70%          (Bool)   |abs_pos: 0.6 |Value: Error|ex Value: False\n",
      "80%          (Bool)   |abs_pos: 0.7 |Value: Error|ex Value: False\n",
      "90%          (Bool)   |abs_pos: 1   |Value:     0|ex Value: False\n",
      "100%         (Bool)   |abs_pos: 1.1 |Value: Error|ex Value: False\n",
      "ex2_SPD_in_l (Struct) |abs_pos: 20  |Value:     0|ex Value: -other-\n",
      "10%          (Bool)   |abs_pos: 0   |Value:     0|ex Value: False\n",
      "20%          (Bool)   |abs_pos: 0.1 |Value: Error|ex Value: False\n",
      "30%          (Bool)   |abs_pos: 0.2 |Value: Error|ex Value: False\n",
      "40%          (Bool)   |abs_pos: 0.3 |Value: Error|ex Value: False\n",
      "50%          (Bool)   |abs_pos: 0.4 |Value: Error|ex Value: False\n",
      "60%          (Bool)   |abs_pos: 0.5 |Value: Error|ex Value: False\n",
      "70%          (Bool)   |abs_pos: 0.6 |Value: Error|ex Value: False\n",
      "80%          (Bool)   |abs_pos: 0.7 |Value: Error|ex Value: False\n",
      "90%          (Bool)   |abs_pos: 1   |Value:     0|ex Value: False\n",
      "100%         (Bool)   |abs_pos: 1.1 |Value: Error|ex Value: False\n",
      "Log          (Array[0.|abs_pos: 22  |Value:     0|ex Value: -other-\n",
      "Log[0]       (Int)    |abs_pos: 0   |Value:     0|ex Value: 0\n",
      "Log[1]       (Int)    |abs_pos: 2   |Value:     3|ex Value: 0\n",
      "Log[2]       (Int)    |abs_pos: 4   |Value:     0|ex Value: 1\n",
      "Log[3]       (Int)    |abs_pos: 6   |Value:     0|ex Value: 34\n",
      "Log[4]       (Int)    |abs_pos: 8   |Value:     0|ex Value: 16\n",
      "Log[5]       (Int)    |abs_pos: 10  |Value:     0|ex Value: 41\n",
      "Log[6]       (Int)    |abs_pos: 12  |Value:     0|ex Value: 0\n",
      "Log[7]       (Int)    |abs_pos: 14  |Value:     0|ex Value: 5\n",
      "Log[8]       (Int)    |abs_pos: 16  |Value: 32768|ex Value: 24\n",
      "Log[9]       (Int)    |abs_pos: 18  |Value:     0|ex Value: 0\n",
      "Old_Log      (Array[0.|abs_pos: 42  |Value:     0|ex Value: -other-\n",
      "Old_Log[0]   (Int)    |abs_pos: 0   |Value:     0|ex Value: 0\n",
      "Old_Log[1]   (Int)    |abs_pos: 2   |Value:     3|ex Value: 0\n",
      "Old_Log[2]   (Int)    |abs_pos: 4   |Value:     0|ex Value: 0\n",
      "Old_Log[3]   (Int)    |abs_pos: 6   |Value:     0|ex Value: 0\n",
      "Old_Log[4]   (Int)    |abs_pos: 8   |Value:     0|ex Value: 0\n",
      "Old_Log[5]   (Int)    |abs_pos: 10  |Value:     0|ex Value: 0\n",
      "Old_Log[6]   (Int)    |abs_pos: 12  |Value:     0|ex Value: 0\n",
      "Old_Log[7]   (Int)    |abs_pos: 14  |Value:     0|ex Value: 0\n",
      "Old_Log[8]   (Int)    |abs_pos: 16  |Value: 32768|ex Value: 0\n",
      "Old_Log[9]   (Int)    |abs_pos: 18  |Value:     0|ex Value: 0\n",
      "ex1_zone     (Array[0.|abs_pos: 62  |Value:   147|ex Value: -other-\n",
      "ex1_zone[0]  (Int)    |abs_pos: 0   |Value:     0|ex Value: 147\n",
      "ex1_zone[1]  (Int)    |abs_pos: 2   |Value:     3|ex Value: 161\n",
      "ex1_zone[2]  (Int)    |abs_pos: 4   |Value:     0|ex Value: 165\n",
      "ex1_zone[3]  (Int)    |abs_pos: 6   |Value:     0|ex Value: 176\n",
      "ex1_zone[4]  (Int)    |abs_pos: 8   |Value:     0|ex Value: 175\n",
      "ex1_zone[5]  (Int)    |abs_pos: 10  |Value:     0|ex Value: 174\n",
      "ex1_zone[6]  (Int)    |abs_pos: 12  |Value:     0|ex Value: 175\n",
      "ex2_zone     (Array[0.|abs_pos: 76  |Value:    31|ex Value: -other-\n",
      "ex2_zone[0]  (Int)    |abs_pos: 0   |Value:     0|ex Value: 31\n",
      "ex2_zone[1]  (Int)    |abs_pos: 2   |Value:     3|ex Value: 34\n",
      "ex2_zone[2]  (Int)    |abs_pos: 4   |Value:     0|ex Value: 36\n",
      "ex2_zone[3]  (Int)    |abs_pos: 6   |Value:     0|ex Value: 43\n",
      "ex2_zone[4]  (Int)    |abs_pos: 8   |Value:     0|ex Value: 43\n",
      "ex2_zone[5]  (Int)    |abs_pos: 10  |Value:     0|ex Value: 34\n",
      "ex2_zone[6]  (Int)    |abs_pos: 12  |Value:     0|ex Value: 0\n",
      "Line_spd_lam (Struct) |abs_pos: 90  |Value:     0|ex Value: -other-\n",
      "10%          (Bool)   |abs_pos: 0   |Value:     0|ex Value: False\n",
      "20%          (Bool)   |abs_pos: 0.1 |Value: Error|ex Value: False\n",
      "30%          (Bool)   |abs_pos: 0.2 |Value: Error|ex Value: False\n",
      "40%          (Bool)   |abs_pos: 0.3 |Value: Error|ex Value: False\n",
      "50%          (Bool)   |abs_pos: 0.4 |Value: Error|ex Value: False\n",
      "60%          (Bool)   |abs_pos: 0.5 |Value: Error|ex Value: False\n",
      "70%          (Bool)   |abs_pos: 0.6 |Value: Error|ex Value: False\n",
      "80%          (Bool)   |abs_pos: 0.7 |Value: Error|ex Value: False\n",
      "90%          (Bool)   |abs_pos: 1   |Value:     0|ex Value: False\n",
      "100%         (Bool)   |abs_pos: 1.1 |Value: Error|ex Value: False\n",
      "Line_info    (Struct) |abs_pos: 92  |Value: 16880|ex Value: -other-\n",
      "Sync_ratio   (Real)   |abs_pos: 0   |Value:     0|ex Value: 30.0\n",
      "LSP          (Real)   |abs_pos: 4   |Value:     0|ex Value: 0.9027777910232544\n",
      "LSP_ratio    (Real)   |abs_pos: 8   |Value:     0|ex Value: 60.0\n",
      "LSP_limit_pe (Real)   |abs_pos: 12  |Value:     0|ex Value: 0.173611119389534\n",
      "TripA        (Real)   |abs_pos: 16  |Value: 32768|ex Value: 9859.099609375\n",
      "ODO_Day      (Real)   |abs_pos: 20  |Value:     0|ex Value: 9082.4306640625\n",
      "Total_Hrs    (Real)   |abs_pos: 24  |Value:     0|ex Value: 0.0\n",
      "Len_left     (Real)   |abs_pos: 28  |Value:    34|ex Value: 0.0\n",
      "Time_left    (Real)   |abs_pos: 32  |Value:    41|ex Value: 0.0\n",
      "Dia1_X_disp  (Real)   |abs_pos: 36  |Value:     5|ex Value: 0.0\n",
      "Dia1_Y_disp  (Real)   |abs_pos: 40  |Value:     0|ex Value: 0.0\n",
      "Dia2_X_disp  (Real)   |abs_pos: 44  |Value:     0|ex Value: 0.0\n",
      "Dia2_Y_disp  (Real)   |abs_pos: 48  |Value:     0|ex Value: 0.0\n",
      "Dia1_X_Targ  (Real)   |abs_pos: 52  |Value:     0|ex Value: 0.0\n",
      "Dia1_Y_Targ  (Real)   |abs_pos: 56  |Value:     0|ex Value: 0.0\n",
      "Dia2_X_Targ  (Real)   |abs_pos: 60  |Value:     0|ex Value: 6.800000190734863\n",
      "Dia2_Y_Targ  (Real)   |abs_pos: 64  |Value:   161|ex Value: 4.0\n",
      "Dia1_X_diff  (Real)   |abs_pos: 68  |Value:   176|ex Value: nan\n",
      "Dia1_Y_diff  (Real)   |abs_pos: 72  |Value:   174|ex Value: nan\n",
      "Dia2_X_diff  (Real)   |abs_pos: 76  |Value:    31|ex Value: 0.0\n",
      "Dia2_Y_diff  (Real)   |abs_pos: 80  |Value:    36|ex Value: 0.0\n",
      "ex2_info     (Struct) |abs_pos: 176 |Value:     0|ex Value: -other-\n",
      "ratio        (Real)   |abs_pos: 0   |Value:     0|ex Value: 0.0\n",
      "limit_per    (Real)   |abs_pos: 4   |Value:     0|ex Value: 0.3580729365348816\n",
      "melt_tmp     (Real)   |abs_pos: 8   |Value:     0|ex Value: 3276.699951171875\n",
      "melt_perssur (Real)   |abs_pos: 12  |Value:     0|ex Value: 0.0\n",
      "ex1_info     (Struct) |abs_pos: 192 |Value: 17065|ex Value: -other-\n",
      "ratio        (Real)   |abs_pos: 0   |Value:     0|ex Value: 84.5\n",
      "limit_per    (Real)   |abs_pos: 4   |Value:     0|ex Value: 0.1193576380610466\n",
      "melt_tmp     (Real)   |abs_pos: 8   |Value:     0|ex Value: 185.5\n",
      "melt_perssur (Real)   |abs_pos: 12  |Value:     0|ex Value: 167.63238525390625\n"
     ]
    }
   ],
   "source": [
    "# milestone 1\n",
    "with open('15103EZM_DB201_1.csv', 'r') as f:\n",
    "    reader = csv.reader(f, doublequote=True, quoting=csv.QUOTE_ALL, escapechar='\\\\')\n",
    "    \n",
    "    print_format = '{:12.12} {:9.9}|abs_pos: {:4.4}|Value: {:5}|ex Value: {}'\n",
    "    ao = adjust_offset()\n",
    "    next(ao)\n",
    "    rel_offset = abs_offset = 0\n",
    "    \n",
    "    for row in reader:\n",
    "        '''0: name, 1: type, 2: offset'''\n",
    "        rel_offset = row[2]\n",
    "        abs_offset = ao.send(float(rel_offset))\n",
    "        ex_value = get_val(data_1, abs_offset, row[1])\n",
    "\n",
    "        try:\n",
    "            value = data_1[int(rel_offset)//2]\n",
    "        except:\n",
    "            #print('error')\n",
    "            value = 'Error'\n",
    "        print(print_format.format(row[0], '({})'.format(row[1]), rel_offset, value, ex_value))"
   ]
  },
  {
   "cell_type": "markdown",
   "metadata": {},
   "source": [
    "# helper function test area"
   ]
  },
  {
   "cell_type": "code",
   "execution_count": 13,
   "metadata": {},
   "outputs": [
    {
     "name": "stdout",
     "output_type": "stream",
     "text": [
      "0.9027777910232544\n",
      "0.173611119389534\n",
      "9859.099609375\n",
      "185.5\n",
      "167.63238525390625\n"
     ]
    }
   ],
   "source": [
    "import struct\n",
    "\n",
    "def decimals_to_float32(int1, int2):\n",
    "    '''Convert to float\n",
    "    \n",
    "    Note:\n",
    "        Orders in big endian\n",
    "    Args:\n",
    "        int1, int2: two interger to combine\n",
    "    Return:\n",
    "        number in float\n",
    "    '''\n",
    "    f = int('{:016b}{:016b}'.format(int1, int2), 2)\n",
    "    return struct.unpack('f', struct.pack('I', f))[0]\n",
    "\n",
    "def unpack_real(data, offset):\n",
    "    '''Get data and convert to float\n",
    "    \n",
    "    Args:\n",
    "        data: List of data\n",
    "        offset: starting address\n",
    "    Return:\n",
    "        number in float\n",
    "    '''\n",
    "    return decimals_to_float32(data[offset//2], data[offset//2+1])\n",
    "\n",
    "print(unpack_real(data_1, 96))\n",
    "print(unpack_real(data_1, 104))\n",
    "print(unpack_real(data_1, 108))\n",
    "print(unpack_real(data_1, 200))\n",
    "print(unpack_real(data_1, 204))"
   ]
  },
  {
   "cell_type": "code",
   "execution_count": 58,
   "metadata": {},
   "outputs": [
    {
     "name": "stdout",
     "output_type": "stream",
     "text": [
      "True\n",
      "False\n",
      "False\n",
      "False\n",
      "False\n",
      "False\n",
      "False\n",
      "False\n",
      "False\n",
      "False\n",
      "False\n",
      "False\n",
      "False\n",
      "False\n",
      "False\n",
      "False\n"
     ]
    }
   ],
   "source": [
    "\n",
    "def unpack_bool(data):\n",
    "    '''Get the boolean data\n",
    "    \n",
    "    Args:\n",
    "        data: integer\n",
    "        position: location of bool to extract\n",
    "    Return:\n",
    "        list of bool\n",
    "    '''\n",
    "    return [bool(int(i)) for i in '{:016b}'.format(data)]\n",
    "\n",
    "for i in range(16):\n",
    "    print(unpack_bool(32768)[i])\n",
    "    \n"
   ]
  },
  {
   "cell_type": "markdown",
   "metadata": {},
   "source": [
    "# scrape area"
   ]
  },
  {
   "cell_type": "code",
   "execution_count": 37,
   "metadata": {},
   "outputs": [
    {
     "data": {
      "text/plain": [
       "b'abci\\xe6\\x03'"
      ]
     },
     "execution_count": 37,
     "metadata": {},
     "output_type": "execute_result"
    }
   ],
   "source": [
    "#st = 'abc\\x69\\xe6\\x03'\n",
    "#bytes(st, 'latin1') # Note that 'ascii' encoding gives error for some values.\n",
    "st.encode('latin1')"
   ]
  }
 ],
 "metadata": {
  "kernelspec": {
   "display_name": "Python 3",
   "language": "python",
   "name": "python3"
  },
  "language_info": {
   "codemirror_mode": {
    "name": "ipython",
    "version": 3
   },
   "file_extension": ".py",
   "mimetype": "text/x-python",
   "name": "python",
   "nbconvert_exporter": "python",
   "pygments_lexer": "ipython3",
   "version": "3.6.3"
  }
 },
 "nbformat": 4,
 "nbformat_minor": 2
}
