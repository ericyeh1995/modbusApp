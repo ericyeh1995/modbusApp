{
 "cells": [
  {
   "cell_type": "code",
   "execution_count": 495,
   "metadata": {
    "collapsed": true
   },
   "outputs": [],
   "source": [
    "import logging\n",
    "logging.basicConfig()\n",
    "log = logging.getLogger()\n",
    "log.setLevel(logging.DEBUG)"
   ]
  },
  {
   "cell_type": "code",
   "execution_count": 502,
   "metadata": {},
   "outputs": [
    {
     "name": "stderr",
     "output_type": "stream",
     "text": [
      "DEBUG:pymodbus.transaction:Running transaction 1\n",
      "DEBUG:pymodbus.transaction:send: 0x0 0x1 0x0 0x0 0x0 0x6 0x1 0x3 0x0 0x0 0x0 0x67\n",
      "DEBUG:pymodbus.transaction:recv: 0x0 0x1 0x0 0x0 0x0 0xd1 0x1 0x3 0xce 0x25 0x0 0x94 0x14 0x0 0x14 0x0 0x0 0x0 0x0 0x0 0x0 0x2 0x71 0x4 0x1 0x3 0x0 0x82 0x1e 0xc0 0x0 0x0 0x0 0x0 0x0 0x0 0x0 0x0 0x0 0x0 0x0 0x5 0x78 0x1d 0x39 0x5 0xf0 0x1 0x44 0x5 0x78 0x2 0x56 0x5 0x78 0x0 0x3a 0x4 0x1a 0xff 0xfd 0x5 0x78 0x0 0x5 0x3a 0x98 0x14 0x49 0x0 0x9b 0x0 0x5c 0x0 0x0 0x0 0x0 0x0 0x0 0x0 0x0 0x0 0x0 0x0 0x0 0x0 0x0 0x0 0x0 0x0 0x3b 0x0 0x0 0x0 0x22 0x0 0x0 0x0 0x0 0x0 0x0 0x0 0x0 0x0 0x0 0x0 0x1 0x0 0x0 0x5 0xe7 0x6 0x45 0x6 0x65 0x6 0xcf 0x6 0xd1 0x6 0xd8 0x1 0x10 0x1 0x13 0x1 0x24 0x1 0x7a 0x1 0x89 0x1 0x77 0x7 0x40 0x7 0xb2 0x7f 0xff 0x0 0x0 0x7 0x40 0x0 0x10 0x0 0x1e 0x0 0x0 0x0 0x0 0x43 0x87 0x0 0x0 0x42 0xa0 0x0 0x0 0x42 0xa0 0x0 0x0 0x43 0x52 0x0 0x0 0x42 0x20 0x0 0x0 0x42 0x20 0x0 0x0 0x42 0x64 0xcc 0xcd 0x42 0x96 0x0 0x0 0x0 0x0 0x0 0x0 0x42 0x70 0x0 0x0 0x43 0x34 0x7 0x68 0x45 0xed 0x40 0xcd 0x45 0x4d 0xd1 0x85 0x49 0x12 0x7c 0x0 0x44 0xb3 0x67 0xa6 0x46 0x17 0x0 0x0\n",
      "DEBUG:pymodbus.transaction:0x0 0x1 0x0 0x0 0x0 0xd1 0x1 0x3 0xce 0x25 0x0 0x94 0x14 0x0 0x14 0x0 0x0 0x0 0x0 0x0 0x0 0x2 0x71 0x4 0x1 0x3 0x0 0x82 0x1e 0xc0 0x0 0x0 0x0 0x0 0x0 0x0 0x0 0x0 0x0 0x0 0x0 0x5 0x78 0x1d 0x39 0x5 0xf0 0x1 0x44 0x5 0x78 0x2 0x56 0x5 0x78 0x0 0x3a 0x4 0x1a 0xff 0xfd 0x5 0x78 0x0 0x5 0x3a 0x98 0x14 0x49 0x0 0x9b 0x0 0x5c 0x0 0x0 0x0 0x0 0x0 0x0 0x0 0x0 0x0 0x0 0x0 0x0 0x0 0x0 0x0 0x0 0x0 0x3b 0x0 0x0 0x0 0x22 0x0 0x0 0x0 0x0 0x0 0x0 0x0 0x0 0x0 0x0 0x0 0x1 0x0 0x0 0x5 0xe7 0x6 0x45 0x6 0x65 0x6 0xcf 0x6 0xd1 0x6 0xd8 0x1 0x10 0x1 0x13 0x1 0x24 0x1 0x7a 0x1 0x89 0x1 0x77 0x7 0x40 0x7 0xb2 0x7f 0xff 0x0 0x0 0x7 0x40 0x0 0x10 0x0 0x1e 0x0 0x0 0x0 0x0 0x43 0x87 0x0 0x0 0x42 0xa0 0x0 0x0 0x42 0xa0 0x0 0x0 0x43 0x52 0x0 0x0 0x42 0x20 0x0 0x0 0x42 0x20 0x0 0x0 0x42 0x64 0xcc 0xcd 0x42 0x96 0x0 0x0 0x0 0x0 0x0 0x0 0x42 0x70 0x0 0x0 0x43 0x34 0x7 0x68 0x45 0xed 0x40 0xcd 0x45 0x4d 0xd1 0x85 0x49 0x12 0x7c 0x0 0x44 0xb3 0x67 0xa6 0x46 0x17 0x0 0x0\n",
      "DEBUG:pymodbus.factory:Factory Response[3]\n",
      "DEBUG:pymodbus.transaction:adding transaction 1\n",
      "DEBUG:pymodbus.transaction:getting transaction 1\n"
     ]
    },
    {
     "name": "stdout",
     "output_type": "stream",
     "text": [
      "2017-12-11 14:52:34.085095\n",
      "ReadRegisterResponse (103)\n",
      "[9472, 37908, 20, 0, 0, 0, 625, 1025, 768, 33310, 49152, 0, 0, 0, 0, 0, 1400, 7481, 1520, 324, 1400, 598, 1400, 58, 1050, 65533, 1400, 5, 15000, 5193, 155, 92, 0, 0, 0, 0, 0, 0, 0, 0, 59, 0, 34, 0, 0, 0, 0, 0, 1, 0, 1511, 1605, 1637, 1743, 1745, 1752, 272, 275, 292, 378, 393, 375, 1856, 1970, 32767, 0, 1856, 16, 30, 0, 0, 17287, 0, 17056, 0, 17056, 0, 17234, 0, 16928, 0, 16928, 0, 16996, 52429, 17046, 0, 0, 0, 17008, 0, 17204, 1896, 17901, 16589, 17741, 53637, 18706, 31744, 17587, 26534, 17943, 0]\n"
     ]
    }
   ],
   "source": [
    "# from pymodbus.client.sync import ModbusTcpClient\n",
    "import datetime\n",
    "\n",
    "client = ModbusTcpClient('192.168.11.150', port=502, retries=3, timeout=3)\n",
    "client.connect()\n",
    "time = datetime.datetime.now()\n",
    "\n",
    "try:\n",
    "    rr = client.read_holding_registers(address=0,count=103,unit=1)\n",
    "    #rr = client.read_holding_registers(0x0,10,unit=1)\n",
    "    time = datetime.datetime.now()\n",
    "except ConnectionException:\n",
    "    print('connection error')\n",
    "client.close()\n",
    "\n",
    "\n",
    "print(time)\n",
    "assert(rr.function_code < 0x80), \"register error\"\n",
    "print(rr)\n",
    "print(rr.registers)\n",
    "#print(client.read_holding_registers(0x9D41,10,unit=1))\n",
    "\n"
   ]
  },
  {
   "cell_type": "code",
   "execution_count": null,
   "metadata": {
    "collapsed": true
   },
   "outputs": [],
   "source": []
  },
  {
   "cell_type": "code",
   "execution_count": 23,
   "metadata": {},
   "outputs": [
    {
     "name": "stdout",
     "output_type": "stream",
     "text": [
      "ReadRegisterResponse (52)\n",
      "[15925, 31554, 17977, 1536, 17938, 28793, 0, 0, 0, 0, 0, 0, 0, 0, 0, 0, 16593, 16589, 16601, 54341, 0, 0, 0, 0, 0, 0, 0, 0, 32704, 0, 32704, 0, 32640, 0, 32640, 0, 0, 0, 16060, 58254, 17740, 52019, 0, 0, 0, 0, 15793, 50973, 17107, 52429, 17169, 9813]\n"
     ]
    }
   ],
   "source": [
    "print(rr)\n",
    "print(rr.registers)"
   ]
  },
  {
   "cell_type": "code",
   "execution_count": 414,
   "metadata": {},
   "outputs": [
    {
     "name": "stdout",
     "output_type": "stream",
     "text": [
      "ReadRegisterResponse (10)\n",
      "[0, 4, 1, 0, 0, 0, 0, 0, 1, 0]\n"
     ]
    }
   ],
   "source": [
    "from pymodbus.client.sync import ModbusTcpClient\n",
    "\n",
    "client = ModbusTcpClient('192.168.11.51', port=502, retries=3, timeout=3)\n",
    "client.connect()\n",
    "\n",
    "rr = client.read_holding_registers(address=0,count=10,unit=1)\n",
    "\n",
    "assert(rr.function_code < 0x80)\n",
    "print(rr)\n",
    "print(rr.registers)\n",
    "\n",
    "client.close()"
   ]
  },
  {
   "cell_type": "code",
   "execution_count": null,
   "metadata": {
    "collapsed": true
   },
   "outputs": [],
   "source": []
  },
  {
   "cell_type": "code",
   "execution_count": 473,
   "metadata": {
    "scrolled": true
   },
   "outputs": [
    {
     "name": "stdout",
     "output_type": "stream",
     "text": [
      "address 0 - 0\n",
      "Error: connection\n",
      "address 0 - 0\n",
      "read ReadRegisterResponse (1)\n",
      "[9984]\n",
      "address 1 - 1\n",
      "read ReadRegisterResponse (1)\n",
      "[37908]\n",
      "address 2 - 2\n",
      "read ReadRegisterResponse (1)\n",
      "[20]\n",
      "address 3 - 3\n",
      "read ReadRegisterResponse (1)\n",
      "[12288]\n",
      "address 4 - 4\n",
      "read ReadRegisterResponse (1)\n",
      "[0]\n"
     ]
    },
    {
     "ename": "KeyboardInterrupt",
     "evalue": "",
     "output_type": "error",
     "traceback": [
      "\u001b[0;31m---------------------------------------------------------------------------\u001b[0m",
      "\u001b[0;31mKeyboardInterrupt\u001b[0m                         Traceback (most recent call last)",
      "\u001b[0;32m<ipython-input-473-c136f000f4c6>\u001b[0m in \u001b[0;36m<module>\u001b[0;34m()\u001b[0m\n\u001b[1;32m     39\u001b[0m         \u001b[0mprint\u001b[0m\u001b[0;34m(\u001b[0m\u001b[0mrr\u001b[0m\u001b[0;34m.\u001b[0m\u001b[0mregisters\u001b[0m\u001b[0;34m)\u001b[0m\u001b[0;34m\u001b[0m\u001b[0m\n\u001b[1;32m     40\u001b[0m \u001b[0;34m\u001b[0m\u001b[0m\n\u001b[0;32m---> 41\u001b[0;31m     \u001b[0msleep\u001b[0m\u001b[0;34m(\u001b[0m\u001b[0;36m0.423\u001b[0m\u001b[0;34m)\u001b[0m\u001b[0;34m\u001b[0m\u001b[0m\n\u001b[0m",
      "\u001b[0;31mKeyboardInterrupt\u001b[0m: "
     ]
    }
   ],
   "source": [
    "from pymodbus.client.sync import ModbusTcpClient\n",
    "from pymodbus.exceptions import ConnectionException\n",
    "\n",
    "from time import sleep\n",
    "\n",
    "client = ModbusTcpClient('192.168.11.150', port=502, retries=3, timeout=3)\n",
    "client.connect()\n",
    "\n",
    "    \n",
    "address = 0\n",
    "bulk = 1\n",
    "skip = []\n",
    "while True:\n",
    "    \n",
    "    print('address {} - {}'.format(address, address+bulk-1))\n",
    "    \n",
    "    try:\n",
    "        if not address in skip:\n",
    "            rr = client.read_holding_registers(address=address,count=bulk,unit=1)\n",
    "        else:\n",
    "            print('address {} skipped'.format(address))\n",
    "            continue\n",
    "\n",
    "    \n",
    "    except AssertionError:\n",
    "        print('Error: assertion')\n",
    "        client.close()\n",
    "        sleep(0.3)\n",
    "        client.connect()\n",
    "    except ConnectionException:\n",
    "        print('Error: connection')\n",
    "        client.close()\n",
    "        sleep(0.3)\n",
    "        client.connect()\n",
    "    else:\n",
    "        address += bulk\n",
    "        assert(rr.function_code < 0x80)\n",
    "        print('read', rr)\n",
    "        print(rr.registers)\n",
    "    \n",
    "    sleep(0.423)"
   ]
  },
  {
   "cell_type": "code",
   "execution_count": null,
   "metadata": {
    "collapsed": true
   },
   "outputs": [],
   "source": [
    "0-102"
   ]
  }
 ],
 "metadata": {
  "kernelspec": {
   "display_name": "Python 3",
   "language": "python",
   "name": "python3"
  },
  "language_info": {
   "codemirror_mode": {
    "name": "ipython",
    "version": 3
   },
   "file_extension": ".py",
   "mimetype": "text/x-python",
   "name": "python",
   "nbconvert_exporter": "python",
   "pygments_lexer": "ipython3",
   "version": "3.6.3"
  }
 },
 "nbformat": 4,
 "nbformat_minor": 2
}
