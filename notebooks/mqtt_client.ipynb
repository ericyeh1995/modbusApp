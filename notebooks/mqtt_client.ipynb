{
 "cells": [
  {
   "cell_type": "code",
   "execution_count": 4,
   "metadata": {},
   "outputs": [],
   "source": []
  },
  {
   "cell_type": "code",
   "execution_count": 2,
   "metadata": {},
   "outputs": [
    {
     "name": "stdout",
     "output_type": "stream",
     "text": [
      "rc: 0\n",
      "Subscribed: 1 (0,)\n",
      "Fri Dec 15 13:07:33 2017\n",
      "{'_id': -233357923822965292, '_index': 'plc-2017.12.15', '_source': '{\"Mtr_Ex1_rpm_max\": 140.0, \"Mtr_Ex1_rpm_disp\": 805.8, \"Mtr_Ex1_amp_max\": 152.0, \"Mtr_Ex1_amp_disp\": 32.3, \"Mtr_Ex1_screw_rpm_max\": 140.0, \"Mtr_Ex1_screw_rpm_disp\": 64.5, \"Mtr_Ex2_rpm_max\": 140.0, \"Mtr_Ex2_rpm_disp\": 6.1, \"Mtr_Ex2_amp_max\": 105.0, \"Mtr_Ex2_amp_disp\": 0.2, \"Mtr_Ex2_screw_rpm_max\": 140.0, \"Mtr_Ex2_screw_rpm_disp\": 0.5, \"Mtr_Cap_rpm_max\": 1500.0, \"Mtr_Cap_rpm_disp\": 612.0, \"Mtr_Cap_amp_max\": 15.5, \"Mtr_Cap_amp_disp\": 9.0, \"Dia_H_Xdisp\": 3.3, \"Dia_H_Ydisp\": 3.3, \"Dia_H_OD_Set\": 3.3, \"Dia_H_ID_Set\": 1.6, \"Dia_H_Tol_max\": 0.0, \"Dia_H_Tol_min\": 0.0, \"Dia_H_Status\": 0, \"Dia_C_X_Set\": 0.0, \"Dia_C_Xdisp\": 3.2, \"Dia_C_Y_Set\": 0.0, \"Dia_C_Ydisp\": 3.2, \"Dia_C_OD_Set\": 0.0, \"Dia_C_ID_Set\": 0.0, \"Dia_C_Tol_max\": 0.0, \"Dia_C_Tol_min\": 0.0, \"Dia_C_Status\": 0, \"Dia_C_CableType\": 0, \"Dia_C_Feedback_ctrl\": 0, \"TC1_Temp_Z0\": 150.6, \"TC1_Temp_Z1\": 161.6, \"TC1_Temp_Z2\": 164.8, \"TC1_Temp_Z3\": 174.4, \"TC1_Temp_Z4\": 176.0, \"TC1_Temp_Z5\": 175.3, \"TC2_Temp_Z0\": 28.5, \"TC2_Temp_Z1\": 30.6, \"TC2_Temp_Z2\": 32.8, \"TC2_Temp_Z3\": 38.8, \"TC2_Temp_Z4\": 39.9, \"TC2_Temp_Z5\": 33.5, \"TC1_temp_melt\": 189.0, \"TC1_pressure_melt\": 222.8, \"TC2_temp_melt\": 3276.7, \"TC2_pressure_melt\": 0.0, \"Ambient_temp\": 189.0, \"MX1L_ratio\": 1.6, \"MX1R_ratio\": 4.0, \"MX2L_ratio\": 0.0, \"MX2R_ratio\": 0.0, \"Max_Throughput_EX1\": 270.0, \"Max_Throughput_MX1L\": 80.0, \"Max_Throughput_MX1R\": 80.0, \"Max_Throughput_EX2\": 210.0, \"Max_Throughput_MX2L\": 40.0, \"Max_Throughput_MX2R\": 40.0, \"Sync_ratio\": 65.0, \"Ex1_ratio\": 71.0, \"Ex2_ratio\": 0.0, \"Cap_ratio\": 60.0, \"LSP\": 212.15277099609375, \"Current_Len\": 5820.7998046875, \"Left_time\": 2800.16357421875, \"Final_Len\": 600000.0, \"Total_hrs\": 1461.13427734375, \"Total_km\": 9792.0, \"timestamp\": \"2017-12-15T05:07:42.395259\"}', '_type': 'document'}\n",
      "Fri Dec 15 13:07:34 2017\n",
      "{'_id': -512783444762611246, '_index': 'plc-2017.12.15', '_source': '{\"Mtr_Ex1_rpm_max\": 140.0, \"Mtr_Ex1_rpm_disp\": 805.8, \"Mtr_Ex1_amp_max\": 152.0, \"Mtr_Ex1_amp_disp\": 32.3, \"Mtr_Ex1_screw_rpm_max\": 140.0, \"Mtr_Ex1_screw_rpm_disp\": 64.5, \"Mtr_Ex2_rpm_max\": 140.0, \"Mtr_Ex2_rpm_disp\": 6.1, \"Mtr_Ex2_amp_max\": 105.0, \"Mtr_Ex2_amp_disp\": 0.2, \"Mtr_Ex2_screw_rpm_max\": 140.0, \"Mtr_Ex2_screw_rpm_disp\": 0.5, \"Mtr_Cap_rpm_max\": 1500.0, \"Mtr_Cap_rpm_disp\": 615.5, \"Mtr_Cap_amp_max\": 15.5, \"Mtr_Cap_amp_disp\": 9.0, \"Dia_H_Xdisp\": 3.3, \"Dia_H_Ydisp\": 3.3, \"Dia_H_OD_Set\": 3.3, \"Dia_H_ID_Set\": 1.6, \"Dia_H_Tol_max\": 0.0, \"Dia_H_Tol_min\": 0.0, \"Dia_H_Status\": 0, \"Dia_C_X_Set\": 0.0, \"Dia_C_Xdisp\": 3.2, \"Dia_C_Y_Set\": 0.0, \"Dia_C_Ydisp\": 3.2, \"Dia_C_OD_Set\": 0.0, \"Dia_C_ID_Set\": 0.0, \"Dia_C_Tol_max\": 0.0, \"Dia_C_Tol_min\": 0.0, \"Dia_C_Status\": 0, \"Dia_C_CableType\": 0, \"Dia_C_Feedback_ctrl\": 0, \"TC1_Temp_Z0\": 150.5, \"TC1_Temp_Z1\": 161.6, \"TC1_Temp_Z2\": 164.8, \"TC1_Temp_Z3\": 174.4, \"TC1_Temp_Z4\": 176.0, \"TC1_Temp_Z5\": 175.3, \"TC2_Temp_Z0\": 28.5, \"TC2_Temp_Z1\": 30.6, \"TC2_Temp_Z2\": 32.8, \"TC2_Temp_Z3\": 38.8, \"TC2_Temp_Z4\": 39.9, \"TC2_Temp_Z5\": 33.5, \"TC1_temp_melt\": 189.0, \"TC1_pressure_melt\": 222.9, \"TC2_temp_melt\": 3276.7, \"TC2_pressure_melt\": 0.0, \"Ambient_temp\": 189.0, \"MX1L_ratio\": 1.6, \"MX1R_ratio\": 4.0, \"MX2L_ratio\": 0.0, \"MX2R_ratio\": 0.0, \"Max_Throughput_EX1\": 270.0, \"Max_Throughput_MX1L\": 80.0, \"Max_Throughput_MX1R\": 80.0, \"Max_Throughput_EX2\": 210.0, \"Max_Throughput_MX2L\": 40.0, \"Max_Throughput_MX2R\": 40.0, \"Sync_ratio\": 65.0, \"Ex1_ratio\": 71.0, \"Ex2_ratio\": 0.0, \"Cap_ratio\": 60.0, \"LSP\": 213.3564910888672, \"Current_Len\": 5824.7001953125, \"Left_time\": 2788.63623046875, \"Final_Len\": 600000.0, \"Total_hrs\": 1461.13427734375, \"Total_km\": 9792.0, \"timestamp\": \"2017-12-15T05:07:43.495273\"}', '_type': 'document'}\n"
     ]
    },
    {
     "ename": "KeyboardInterrupt",
     "evalue": "",
     "output_type": "error",
     "traceback": [
      "\u001b[0;31m---------------------------------------------------------------------------\u001b[0m",
      "\u001b[0;31mKeyboardInterrupt\u001b[0m                         Traceback (most recent call last)",
      "\u001b[0;32m<ipython-input-2-17db63c91906>\u001b[0m in \u001b[0;36m<module>\u001b[0;34m()\u001b[0m\n\u001b[1;32m     60\u001b[0m \u001b[0;34m\u001b[0m\u001b[0m\n\u001b[1;32m     61\u001b[0m \u001b[0;34m\u001b[0m\u001b[0m\n\u001b[0;32m---> 62\u001b[0;31m \u001b[0mmqttc\u001b[0m\u001b[0;34m.\u001b[0m\u001b[0mloop_forever\u001b[0m\u001b[0;34m(\u001b[0m\u001b[0;34m)\u001b[0m\u001b[0;34m\u001b[0m\u001b[0m\n\u001b[0m",
      "\u001b[0;32m~/miniconda3/lib/python3.6/site-packages/paho/mqtt/client.py\u001b[0m in \u001b[0;36mloop_forever\u001b[0;34m(self, timeout, max_packets, retry_first_connection)\u001b[0m\n\u001b[1;32m   1479\u001b[0m             \u001b[0mrc\u001b[0m \u001b[0;34m=\u001b[0m \u001b[0mMQTT_ERR_SUCCESS\u001b[0m\u001b[0;34m\u001b[0m\u001b[0m\n\u001b[1;32m   1480\u001b[0m             \u001b[0;32mwhile\u001b[0m \u001b[0mrc\u001b[0m \u001b[0;34m==\u001b[0m \u001b[0mMQTT_ERR_SUCCESS\u001b[0m\u001b[0;34m:\u001b[0m\u001b[0;34m\u001b[0m\u001b[0m\n\u001b[0;32m-> 1481\u001b[0;31m                 \u001b[0mrc\u001b[0m \u001b[0;34m=\u001b[0m \u001b[0mself\u001b[0m\u001b[0;34m.\u001b[0m\u001b[0mloop\u001b[0m\u001b[0;34m(\u001b[0m\u001b[0mtimeout\u001b[0m\u001b[0;34m,\u001b[0m \u001b[0mmax_packets\u001b[0m\u001b[0;34m)\u001b[0m\u001b[0;34m\u001b[0m\u001b[0m\n\u001b[0m\u001b[1;32m   1482\u001b[0m                 \u001b[0;31m# We don't need to worry about locking here, because we've\u001b[0m\u001b[0;34m\u001b[0m\u001b[0;34m\u001b[0m\u001b[0m\n\u001b[1;32m   1483\u001b[0m                 \u001b[0;31m# either called loop_forever() when in single threaded mode, or\u001b[0m\u001b[0;34m\u001b[0m\u001b[0;34m\u001b[0m\u001b[0m\n",
      "\u001b[0;32m~/miniconda3/lib/python3.6/site-packages/paho/mqtt/client.py\u001b[0m in \u001b[0;36mloop\u001b[0;34m(self, timeout, max_packets)\u001b[0m\n\u001b[1;32m    986\u001b[0m         \u001b[0mrlist\u001b[0m \u001b[0;34m=\u001b[0m \u001b[0;34m[\u001b[0m\u001b[0mself\u001b[0m\u001b[0;34m.\u001b[0m\u001b[0m_sock\u001b[0m\u001b[0;34m,\u001b[0m \u001b[0mself\u001b[0m\u001b[0;34m.\u001b[0m\u001b[0m_sockpairR\u001b[0m\u001b[0;34m]\u001b[0m\u001b[0;34m\u001b[0m\u001b[0m\n\u001b[1;32m    987\u001b[0m         \u001b[0;32mtry\u001b[0m\u001b[0;34m:\u001b[0m\u001b[0;34m\u001b[0m\u001b[0m\n\u001b[0;32m--> 988\u001b[0;31m             \u001b[0msocklist\u001b[0m \u001b[0;34m=\u001b[0m \u001b[0mselect\u001b[0m\u001b[0;34m.\u001b[0m\u001b[0mselect\u001b[0m\u001b[0;34m(\u001b[0m\u001b[0mrlist\u001b[0m\u001b[0;34m,\u001b[0m \u001b[0mwlist\u001b[0m\u001b[0;34m,\u001b[0m \u001b[0;34m[\u001b[0m\u001b[0;34m]\u001b[0m\u001b[0;34m,\u001b[0m \u001b[0mtimeout\u001b[0m\u001b[0;34m)\u001b[0m\u001b[0;34m\u001b[0m\u001b[0m\n\u001b[0m\u001b[1;32m    989\u001b[0m         \u001b[0;32mexcept\u001b[0m \u001b[0mTypeError\u001b[0m\u001b[0;34m:\u001b[0m\u001b[0;34m\u001b[0m\u001b[0m\n\u001b[1;32m    990\u001b[0m             \u001b[0;31m# Socket isn't correct type, in likelihood connection is lost\u001b[0m\u001b[0;34m\u001b[0m\u001b[0;34m\u001b[0m\u001b[0m\n",
      "\u001b[0;31mKeyboardInterrupt\u001b[0m: "
     ]
    }
   ],
   "source": [
    "#!/usr/bin/python\n",
    "# -*- coding: utf-8 -*-\n",
    "\n",
    "# Copyright (c) 2010-2013 Roger Light <roger@atchoo.org>\n",
    "#\n",
    "# All rights reserved. This program and the accompanying materials\n",
    "# are made available under the terms of the Eclipse Distribution License v1.0\n",
    "# which accompanies this distribution.\n",
    "#\n",
    "# The Eclipse Distribution License is available at\n",
    "#   http://www.eclipse.org/org/documents/edl-v10.php.\n",
    "#\n",
    "# Contributors:\n",
    "#    Roger Light - initial implementation\n",
    "# Copyright (c) 2010,2011 Roger Light <roger@atchoo.org>\n",
    "# All rights reserved.\n",
    "\n",
    "# This shows a simple example of an MQTT subscriber.\n",
    "\n",
    "from datetime import datetime\n",
    "import paho.mqtt.client as mqtt\n",
    "import json\n",
    "\n",
    "def on_connect(mqttc, obj, flags, rc):\n",
    "    print(\"rc: \" + str(rc))\n",
    "\n",
    "\n",
    "def on_message(mqttc, obj, msg):\n",
    "    try:\n",
    "        print(\"{}\".format(datetime.now().strftime('%c')))\n",
    "        print(str(json.loads(msg.payload)))\n",
    "    except UnicodeDecodeError:\n",
    "        print('decode error')\n",
    "\n",
    "\n",
    "def on_publish(mqttc, obj, mid):\n",
    "    print(\"mid: \" + str(mid))\n",
    "\n",
    "\n",
    "def on_subscribe(mqttc, obj, mid, granted_qos):\n",
    "    print(\"Subscribed: \" + str(mid) + \" \" + str(granted_qos))\n",
    "\n",
    "\n",
    "def on_log(mqttc, obj, level, string):\n",
    "    print(string)\n",
    "\n",
    "\n",
    "# If you want to use a specific client id, use\n",
    "# mqttc = mqtt.Client(\"client-id\")\n",
    "# but note that the client id must be unique on the broker. Leaving the client\n",
    "# id parameter empty will generate a random id for you.\n",
    "mqttc = mqtt.Client()\n",
    "mqttc.on_message = on_message\n",
    "mqttc.on_connect = on_connect\n",
    "mqttc.on_subscribe = on_subscribe\n",
    "# Uncomment to enable debug messages\n",
    "# mqttc.on_log = on_log\n",
    "mqttc.connect(\"test.mosquitto.org\", 1883, 60)\n",
    "mqttc.subscribe(\"aspm1188/data\", 0)\n",
    "\n",
    "\n",
    "mqttc.loop_forever()\n"
   ]
  },
  {
   "cell_type": "code",
   "execution_count": null,
   "metadata": {},
   "outputs": [],
   "source": []
  },
  {
   "cell_type": "code",
   "execution_count": null,
   "metadata": {},
   "outputs": [],
   "source": []
  }
 ],
 "metadata": {
  "kernelspec": {
   "display_name": "Python 3",
   "language": "python",
   "name": "python3"
  },
  "language_info": {
   "codemirror_mode": {
    "name": "ipython",
    "version": 3
   },
   "file_extension": ".py",
   "mimetype": "text/x-python",
   "name": "python",
   "nbconvert_exporter": "python",
   "pygments_lexer": "ipython3",
   "version": "3.6.3"
  }
 },
 "nbformat": 4,
 "nbformat_minor": 2
}
