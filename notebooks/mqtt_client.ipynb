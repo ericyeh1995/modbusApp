{
 "cells": [
  {
   "cell_type": "code",
   "execution_count": 4,
   "metadata": {},
   "outputs": [],
   "source": []
  },
  {
   "cell_type": "code",
   "execution_count": null,
   "metadata": {},
   "outputs": [
    {
     "name": "stdout",
     "output_type": "stream",
     "text": [
      "rc: 0\n",
      "Subscribed: 1 (0,)\n",
      "aspm1188/test 0 b'data1'\n",
      "aspm1188/test 0 b'data2'\n"
     ]
    }
   ],
   "source": [
    "#!/usr/bin/python\n",
    "# -*- coding: utf-8 -*-\n",
    "\n",
    "# Copyright (c) 2010-2013 Roger Light <roger@atchoo.org>\n",
    "#\n",
    "# All rights reserved. This program and the accompanying materials\n",
    "# are made available under the terms of the Eclipse Distribution License v1.0\n",
    "# which accompanies this distribution.\n",
    "#\n",
    "# The Eclipse Distribution License is available at\n",
    "#   http://www.eclipse.org/org/documents/edl-v10.php.\n",
    "#\n",
    "# Contributors:\n",
    "#    Roger Light - initial implementation\n",
    "# Copyright (c) 2010,2011 Roger Light <roger@atchoo.org>\n",
    "# All rights reserved.\n",
    "\n",
    "# This shows a simple example of an MQTT subscriber.\n",
    "\n",
    "import paho.mqtt.client as mqtt\n",
    "\n",
    "\n",
    "def on_connect(mqttc, obj, flags, rc):\n",
    "    print(\"rc: \" + str(rc))\n",
    "\n",
    "\n",
    "def on_message(mqttc, obj, msg):\n",
    "    try:\n",
    "        print(msg.topic + \" \" + str(msg.qos) + \" \" + str(msg.payload))\n",
    "    except UnicodeDecodeError:\n",
    "        print('decode error')\n",
    "\n",
    "\n",
    "def on_publish(mqttc, obj, mid):\n",
    "    print(\"mid: \" + str(mid))\n",
    "\n",
    "\n",
    "def on_subscribe(mqttc, obj, mid, granted_qos):\n",
    "    print(\"Subscribed: \" + str(mid) + \" \" + str(granted_qos))\n",
    "\n",
    "\n",
    "def on_log(mqttc, obj, level, string):\n",
    "    print(string)\n",
    "\n",
    "\n",
    "# If you want to use a specific client id, use\n",
    "# mqttc = mqtt.Client(\"client-id\")\n",
    "# but note that the client id must be unique on the broker. Leaving the client\n",
    "# id parameter empty will generate a random id for you.\n",
    "mqttc = mqtt.Client()\n",
    "mqttc.on_message = on_message\n",
    "mqttc.on_connect = on_connect\n",
    "mqttc.on_subscribe = on_subscribe\n",
    "# Uncomment to enable debug messages\n",
    "# mqttc.on_log = on_log\n",
    "mqttc.connect(\"test.mosquitto.org\", 1883, 60)\n",
    "mqttc.subscribe(\"aspm1188/test\", 0)\n",
    "\n",
    "\n",
    "mqttc.loop_forever()\n"
   ]
  },
  {
   "cell_type": "code",
   "execution_count": null,
   "metadata": {},
   "outputs": [],
   "source": []
  },
  {
   "cell_type": "code",
   "execution_count": null,
   "metadata": {},
   "outputs": [],
   "source": []
  }
 ],
 "metadata": {
  "kernelspec": {
   "display_name": "Python 3",
   "language": "python",
   "name": "python3"
  },
  "language_info": {
   "codemirror_mode": {
    "name": "ipython",
    "version": 3
   },
   "file_extension": ".py",
   "mimetype": "text/x-python",
   "name": "python",
   "nbconvert_exporter": "python",
   "pygments_lexer": "ipython3",
   "version": "3.6.3"
  }
 },
 "nbformat": 4,
 "nbformat_minor": 2
}
